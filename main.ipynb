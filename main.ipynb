{
 "cells": [
  {
   "cell_type": "code",
   "execution_count": null,
   "metadata": {
    "collapsed": false
   },
   "outputs": [],
   "source": [
    "import requests\n",
    "import urllib2\n",
    "from bs4 import BeautifulSoup\n",
    "from nltk.tokenize import sent_tokenize, word_tokenize\n",
    "from nltk.corpus import stopwords\n",
    "from collections import defaultdict\n",
    "from string import punctuation\n",
    "from heapq import nlargest\n",
    "from math import log"
   ]
  },
  {
   "cell_type": "code",
   "execution_count": null,
   "metadata": {
    "collapsed": true
   },
   "outputs": [],
   "source": [
    "def getWashPostText(url, token):\n",
    "    # 'token' is the tag between which article is located\n",
    "    \n",
    "    try:\n",
    "        page = urllib2.urlopen(url).read().decode('utf8')\n",
    "    except:\n",
    "        return (None, None)\n",
    "    \n",
    "    soup = BeautifulSoup(page, \"lxml\")\n",
    "    if soup is None:\n",
    "        return (None, None)\n",
    "    text = \"\"\n",
    "    if soup.find_all(token) is not None:\n",
    "        text = ''.join(map(lambda p: p.text, soup.find_all(token)))\n",
    "        soup2 = BeautifulSoup(text, \"lxml\")\n",
    "        if soup2.find_all('p') is not None:\n",
    "            text = ''.join(map(lambda p: p.text, soup2.find_all('p')))\n",
    "    return (text, soup.title.text)"
   ]
  },
  {
   "cell_type": "code",
   "execution_count": null,
   "metadata": {
    "collapsed": false
   },
   "outputs": [],
   "source": [
    "def getNYText(url, token):\n",
    "    response = requests.get(url)\n",
    "    \n",
    "    soup = BeautifulSoup(response.content, \"lxml\")\n",
    "    page = str(soup)\n",
    "    title = soup.find('title').text\n",
    "    mydivs = soup.findAll({\"p\": {\"class\":\"story-body-text story-content\"}})\n",
    "    text = ''.join(map(lambda p: p.text, mydivs))\n",
    "    \n",
    "    return text, title"
   ]
  },
  {
   "cell_type": "code",
   "execution_count": null,
   "metadata": {
    "collapsed": true
   },
   "outputs": [],
   "source": [
    "def scrapeSource(url, magicFrag='2015', scraperFunction=getNYText, token='None'):\n",
    "    urlBodies = {}\n",
    "    response = requests.get(url).text\n",
    "    soup = BeautifulSoup(response, \"lxml\")\n",
    "    numErrors = 0\n",
    "    \n",
    "    for a in soup.findAll('a'):\n",
    "        try:\n",
    "            url = a['href']\n",
    "            if ((url not in urlBodies) \n",
    "                and (magicFrag is not None and magicFrag in url) \n",
    "                or magicFrag is None):\n",
    "                \n",
    "                body = scraperFunction(url, token)\n",
    "                if body and len(body) > 0:\n",
    "                    urlBodies[url] = body\n",
    "                print url\n",
    "        except Exception as e:\n",
    "            numErrors += 1\n",
    "    return urlBodies"
   ]
  },
  {
   "cell_type": "code",
   "execution_count": null,
   "metadata": {
    "collapsed": false
   },
   "outputs": [],
   "source": [
    "# Now we make the frequency summarizer class. Given a (title, article_text), this class has\n",
    "# easy methods to find the 'most important' sentences and word. (Most important is defined\n",
    "# by the frequency of occurrance after excluding stopwords)\n",
    "\n",
    "class FrequencySummarizer:\n",
    "    def __init__(self, min_cut = 0, max_cut = 0.9):\n",
    "        self._min_cut = min_cut\n",
    "        self._max_cut = max_cut\n",
    "        self._stopwords = set(stopwords.words('english') + \n",
    "                              list(punctuation) + \n",
    "                              [u\"'s\", '\"'])\n",
    "    \n",
    "    def _compute_frequencies(self, word_sent, customStopWords = None):\n",
    "        freq = defaultdict(int)\n",
    "        if customStopWords is None:\n",
    "            stopwords = set(self._stopwords)\n",
    "        else:\n",
    "            stopwords = set(customStopWords).union(self._stopwords)\n",
    "        for sent in word_sent:\n",
    "            for word in sent:\n",
    "                if word not in stopwords:\n",
    "                    freq[word] += 1\n",
    "        m = float(max(freq.values()))\n",
    "        for word in freq.keys():\n",
    "            freq[word] = freq[word] / m\n",
    "            if freq[word] >= self._max_cut and freq[word] <= self._min_cut:\n",
    "                del freq[word]\n",
    "        return freq\n",
    "    \n",
    "    def extractFeatures(self, article, n, customStopWords = None):\n",
    "        text = article[0]\n",
    "        title = article[1]\n",
    "        sentences = sent_tokenize(text)\n",
    "        word_sent = [word_tokenize(s.lower()) for s in sentences]\n",
    "        self._freq = self._compute_frequencies(word_sent, customStopWords)\n",
    "        if n < 0:\n",
    "            return nlargest(len(self._freq.keys()), self._freq, key = self._freq.get)\n",
    "        else:\n",
    "            return nlargest(n, self._freq, key = self._freq.get)\n",
    "        \n",
    "    def extractRawFrequencies(self, article):\n",
    "        title = article[0]\n",
    "        text = article[1]\n",
    "        sentences = sent_tokenize(text)\n",
    "        word_sent = [word_tokenize(s.lower()) for s in sentences]\n",
    "        freq = defaultdict(int)\n",
    "        for s in word_sent:\n",
    "            for word in s:\n",
    "                if word not in self._stopwords:\n",
    "                    freq[word] += 1\n",
    "        return freq\n",
    "    \n",
    "    def summarize(self, article, n):\n",
    "        title = article[0]\n",
    "        text = article[1]\n",
    "        sentences = sent_tokenize(text)\n",
    "        word_sent = [word_tokenize(s.lower()) for s in sentences]\n",
    "        self._freq = self._compute_frequencies(word_sent)\n",
    "        ranking = defaultdict(int)\n",
    "        for i, sentence in enumerate(word_sent):\n",
    "            for word in sentence:\n",
    "                if word in self._freq:\n",
    "                    ranking[i] += self._freq[word]\n",
    "        sentences_index = nlargest(n, ranking, key = ranking.get)\n",
    "        return [sents[j] for j in sents_index]"
   ]
  },
  {
   "cell_type": "code",
   "execution_count": null,
   "metadata": {
    "collapsed": false,
    "scrolled": false
   },
   "outputs": [],
   "source": [
    "urlWashingtonPostNonTech = \"https://www.washingtonpost.com/sports\"\n",
    "urlNewYorkTimesNonTech = \"https://www.nytimes.com/section/sports\"\n",
    "urlWashingtonPostTech = \"https://www.washingtonpost.com/business/technology\"\n",
    "urlNewYorkTimesTech = \"https://www.nytimes.com/section/technology\"\n",
    "\n",
    "washingtonPostTechArticles = scrapeSource(urlWashingtonPostTech, '2017', getWashPostText, 'article')\n",
    "washingtonPostNonTechArticles = scrapeSource(urlWashingtonPostNonTech, '2017', getWashPostText, 'article')\n",
    "newYorkTimesTechArticles = scrapeSource(urlNewYorkTimesTech, '2017', getNYText, None)\n",
    "newYorkTimesNonTechArticles = scrapeSource(urlNewYorkTimesNonTech, '2017', getNYText, None)"
   ]
  },
  {
   "cell_type": "code",
   "execution_count": null,
   "metadata": {
    "collapsed": false
   },
   "outputs": [],
   "source": [
    "articleSummaries = {}\n",
    "for techUrlDictionary in [washingtonPostTechArticles, newYorkTimesTechArticles]:\n",
    "    for articleUrl in techUrlDictionary:\n",
    "        try:\n",
    "            if len(techUrlDictionary[articleUrl][0]) > 0:\n",
    "                fs = FrequencySummarizer()\n",
    "                summary = fs.extractFeatures(techUrlDictionary[articleUrl], 25)\n",
    "                articleSummaries[articleUrl] = {\n",
    "                    'feature-vector': summary,\n",
    "                    'label': 'Tech'\n",
    "                }\n",
    "        except Exception as e:\n",
    "            print \"Error while computing {}: {}\".format(techUrlDictionary[articleUrl][0], e)\n",
    "            \n",
    "for nonTechUrlDictionary in [washingtonPostNonTechArticles, newYorkTimesNonTechArticles]:\n",
    "    for articleUrl in nonTechUrlDictionary:\n",
    "        try:\n",
    "            if len(nonTechUrlDictionary[articleUrl][0]) > 0:\n",
    "                fs = FrequencySummarizer()\n",
    "                summary = fs.extractFeatures(nonTechUrlDictionary[articleUrl], 25)\n",
    "                articleSummaries[articleUrl] = {\n",
    "                    'feature-vector': summary,\n",
    "                    'label': 'Non-Tech'\n",
    "                }\n",
    "        except Exception as e:\n",
    "            print \"Error while computing {}: {}\".format(nonTechUrlDictionary[articleUrl][0], e)"
   ]
  },
  {
   "cell_type": "code",
   "execution_count": null,
   "metadata": {
    "collapsed": false
   },
   "outputs": [],
   "source": [
    "# Now, training Data is all set up. We need to get our test instance.\n",
    "\n",
    "def getDoxyDonkeyText(testUrl, token):\n",
    "    response = requests.get(testUrl)\n",
    "    soup = BeautifulSoup(response.content)\n",
    "    page = str(soup)\n",
    "    title = soup.find('title').text\n",
    "    mydivs = soup.findAll(\"div\", {\"class\": token})\n",
    "    text = ''.join(map(lambda p:p.text,mydivs))\n",
    "    # Test instance should return data in the same format as training data\n",
    "    return text, title\n",
    "\n",
    "testUrl = \"http://doxydonkey.blogspot.in\"\n",
    "testArticle = getDoxyDonkeyText(testUrl, \"post-body\")"
   ]
  },
  {
   "cell_type": "code",
   "execution_count": null,
   "metadata": {
    "collapsed": false
   },
   "outputs": [],
   "source": [
    "fs = FrequencySummarizer()\n",
    "testArticleSummary = fs.extractFeatures(testArticle, 25)"
   ]
  },
  {
   "cell_type": "code",
   "execution_count": null,
   "metadata": {
    "collapsed": false
   },
   "outputs": [],
   "source": [
    "# Now, to begin the true classification. First, we'll use KNN\n",
    "# We'll find the 5 nearest (most similar) articles, and then take \n",
    "# a majority vote of their fields\n",
    "\n",
    "def doKNN(testArticleSummary, articleSummaries):\n",
    "    similarities = {}\n",
    "    for articleUrl in articleSummaries:\n",
    "        oneArticleSummary = articleSummaries[articleUrl]['feature-vector']\n",
    "        similarities[articleUrl] = len(set(testArticleSummary).intersection(set(oneArticleSummary)))\n",
    "\n",
    "    labels = defaultdict(int)\n",
    "    knn = nlargest(5, similarities, key=similarities.get)\n",
    "\n",
    "    for oneNeighbour in knn:\n",
    "        labels[articleSummaries[oneNeighbour]['label']] += 1\n",
    "\n",
    "    return nlargest(1, labels, key=labels.get)[0]"
   ]
  },
  {
   "cell_type": "code",
   "execution_count": null,
   "metadata": {
    "collapsed": false
   },
   "outputs": [],
   "source": [
    "# Now, we'll do classification with Naive Baye's Classifier\n",
    "\n",
    "cumulativeRawFrequencies = {\n",
    "    'Tech': defaultdict(int),\n",
    "    'Non-Tech': defaultdict(int)\n",
    "}\n",
    "\n",
    "trainingData = {\n",
    "    'Tech': newYorkTimesTechArticles,\n",
    "    'Non-Tech': newYorkTimesNonTechArticles\n",
    "}\n",
    "\n",
    "for label in trainingData:\n",
    "    for articleUrl in trainingData[label]:\n",
    "        if len(trainingData[label][articleUrl][0]) > 0:\n",
    "            fs = FrequencySummarizer()\n",
    "            rawFrequencies = fs.extractRawFrequencies(trainingData[label][articleUrl])\n",
    "            for word in rawFrequencies:\n",
    "                cumulativeRawFrequencies[label][word] += rawFrequencies[word]"
   ]
  },
  {
   "cell_type": "code",
   "execution_count": null,
   "metadata": {
    "collapsed": false
   },
   "outputs": [],
   "source": [
    "def doNaiveBayes(testArticleSummary, cumulativeRawFrequencies):\n",
    "    techiness = 1.0\n",
    "    nontechiness = 1.0\n",
    "    for word in testArticleSummary:\n",
    "        # for each 'feature'\n",
    "        if word in cumulativeRawFrequencies['Tech']:\n",
    "            # multiply techiness by the probability that this word appears in a Tech article \n",
    "            techiness *= 1e3*cumulativeRawFrequencies['Tech'][word] / float(sum(cumulativeRawFrequencies['Tech'].values()))\n",
    "        else:\n",
    "            techiness *= 1e3\n",
    "\n",
    "        if word in cumulativeRawFrequencies['Non-Tech']:\n",
    "            nontechiness *= cumulativeRawFrequencies['Non-Tech'][word] / float(sum(cumulativeRawFrequencies['Non-Tech'].values()))\n",
    "        else:\n",
    "            nontechiness *= 1e3\n",
    "\n",
    "    # Now, we need to normalize our result, with respect to the number of words in the article\n",
    "\n",
    "    techiness *= float(sum(cumulativeRawFrequencies['Tech'].values())) / (float(sum(cumulativeRawFrequencies['Tech'].values())) + float(sum(cumulativeRawFrequencies['Non-Tech'].values())))\n",
    "\n",
    "    nontechiness *= float(sum(cumulativeRawFrequencies['Non-Tech'].values())) / (float(sum(cumulativeRawFrequencies['Tech'].values())) + float(sum(cumulativeRawFrequencies['Non-Tech'].values())))\n",
    "\n",
    "    if techiness > nontechiness:\n",
    "        label = 'Tech'\n",
    "    else:\n",
    "        label = 'Non-Tech'\n",
    "    return label"
   ]
  },
  {
   "cell_type": "code",
   "execution_count": 19,
   "metadata": {
    "collapsed": false
   },
   "outputs": [
    {
     "name": "stdout",
     "output_type": "stream",
     "text": [
      "Tech\n",
      "Tech\n"
     ]
    }
   ],
   "source": [
    "print doKNN(testArticleSummary, articleSummaries)\n",
    "print doNaiveBayes(testArticleSummary, cumulativeRawFrequencies)"
   ]
  }
 ],
 "metadata": {
  "kernelspec": {
   "display_name": "Python 2",
   "language": "python",
   "name": "python2"
  },
  "language_info": {
   "codemirror_mode": {
    "name": "ipython",
    "version": 2
   },
   "file_extension": ".py",
   "mimetype": "text/x-python",
   "name": "python",
   "nbconvert_exporter": "python",
   "pygments_lexer": "ipython2",
   "version": "2.7.13"
  }
 },
 "nbformat": 4,
 "nbformat_minor": 2
}
